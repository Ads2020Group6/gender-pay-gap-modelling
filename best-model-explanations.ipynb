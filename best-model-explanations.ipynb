{
 "cells": [
  {
   "cell_type": "code",
   "execution_count": null,
   "metadata": {
    "collapsed": true,
    "pycharm": {
     "is_executing": true
    }
   },
   "outputs": [],
   "source": [
    "import pandas as pd\n",
    "import numpy as np\n",
    "import matplotlib.pyplot as plt\n",
    "import seaborn as sns\n",
    "import eli5\n",
    "from eli5.sklearn import PermutationImportance\n",
    "from pdpbox import pdp, get_dataset, info_plots\n",
    "\n",
    "import shap\n",
    "from pathlib import Path\n",
    "from modelling_pipeline import features\n",
    "from joblib import dump, load\n",
    "import matplotlib as mpl\n",
    "\n",
    "plt.rcParams['figure.dpi'] = 150\n",
    "%matplotlib inline\n",
    "%config InlineBackend.figure_format='retina'\n",
    "\n",
    "mpl.rcParams['font.family'] = 'Optima'\n",
    "mpl.rcParams['text.usetex'] = 'False'"
   ]
  },
  {
   "cell_type": "code",
   "execution_count": null,
   "outputs": [],
   "source": [
    "def correlatePredictions(model, val_X, val_y, name):\n",
    "    preds = model.predict(val_X)\n",
    "    fig, ax = plt.subplots(figsize=(8, 5))\n",
    "    sns.scatterplot(preds, val_y, cmap=plt.cm.Spectral, s=7, edgecolor='k', lw=1)\n",
    "\n",
    "    ax.set_xlabel('Predicted pay gap (%)',  **{ 'fontsize': 18})\n",
    "    ax.set_ylabel('Actual pay gap (%)',  **{ 'fontsize': 18})\n",
    "    ax.set_title(name,  **{ 'fontsize': 24})\n",
    "    plt.tick_params(axis='y', which='both', labelleft=True, labelright=False, labelsize=14)\n",
    "    plt.tick_params(axis='x', which='both', labelleft=True, labelright=False, labelsize=14)\n",
    "    plt.savefig('viz/{}-correlation.png'.format(name), dpi=150)\n",
    "    plt.show()\n",
    "\n",
    "\n",
    "\n",
    "def feature_importance(model, X, target_name):\n",
    "    feature_importances = pd.DataFrame(\n",
    "        model.feature_importances_,\n",
    "        index=X.columns,\n",
    "        columns=['importance']).sort_values('importance', ascending=False)\n",
    "    fig, ax = plt.subplots(figsize=(7, 10))\n",
    "    sns.barplot(ax=ax, data=feature_importances.reset_index(), \n",
    "                x='importance', \n",
    "                y='index', orient='h',  **{ 'fontsize': 24})\n",
    "    plt.tick_params(axis='y', which='both', labelleft=True, labelright=False, labelsize=14)\n",
    "    plt.tick_params(axis='x', which='both', labelleft=True, labelright=False, labelsize=14)\n",
    "    plt.savefig('viz/{}-fi.png'.format(target_name), dpi=150)\n",
    "    plt.show()\n",
    "\n",
    "\n",
    "def permutation_importance(model, X, y, target_name):\n",
    "    perm = PermutationImportance(model, random_state=1).fit(X, y)\n",
    "    eli5.show_weights(perm, feature_names=X.columns.tolist())\n",
    "    plt.savefig('viz/{}-perm-imp.png'.format(target_name), dpi=150)\n",
    "    plt.show()\n",
    "\n",
    "\n",
    "def partial_dependence_plot(model, data, feature_names, feature_to_plot, target_name):\n",
    "    pdp_score = pdp.pdp_isolate(model=model, dataset=data, model_features=feature_names,\n",
    "                                feature=feature_to_plot)\n",
    "    pdp.pdp_plot(pdp_score, feature_to_plot)\n",
    "    pdp.plt.title('Partial dependence plot of {}'.format(feature_to_plot),  **{ 'fontsize': 24})\n",
    "    plt.tick_params(axis='y', which='both', labelleft=True, labelright=False, labelsize=18)\n",
    "    plt.tick_params(axis='x', which='both', labelleft=True, labelright=False, labelsize=18)\n",
    "    plt.xlabel([])\n",
    "    pdp.plt.savefig('viz/{}-{}-pdp.png'.format(target_name, feature_to_plot), dpi=150)\n",
    "    plt.show()\n",
    "\n",
    "\n",
    "def plot_shap_values(model, X, target_name):\n",
    "    # Create object that can calculate shap values\n",
    "    explainer = shap.TreeExplainer(model)\n",
    "    # calculate shap values. This is what we will plot.\n",
    "    # Calculate shap_values for all of val_X rather than a single row, to have more data for plot.\n",
    "    shap_values = explainer.shap_values(X.sample(frac=0.05))\n",
    "    shap.summary_plot(shap_values, X.sample(frac=0.05),  **{ 'fontsize': 14})\n",
    "    plt.savefig('viz/{}-shap.png'.format(target_name), dpi=150)\n",
    "\n",
    "\n",
    "def explain_model(target_name, X, y):\n",
    "    model = load('models/{}-best-model.joblib'.format(target_name))\n",
    "    correlatePredictions(model, X, y, target_name)\n",
    "    partial_dependence_plot(model, X.sample(frac=0.05), features, 'RepresentationInLowerQuartileSkew' , target_name )\n",
    "    partial_dependence_plot(model, X.sample(frac=0.05), features, 'RepresentationInTopQuartileSkew' , target_name )\n",
    "    permutation_importance(model, X, y, target_name)\n",
    "    feature_importance(model, X, target_name)\n",
    "    plot_shap_values(model, X, target_name)\n",
    "\n",
    "\n"
   ],
   "metadata": {
    "collapsed": false,
    "pycharm": {
     "name": "#%%\n",
     "is_executing": true
    }
   }
  },
  {
   "cell_type": "code",
   "execution_count": null,
   "outputs": [],
   "source": [
    "Path('viz').mkdir(parents=True, exist_ok=True)\n",
    "df = pd.read_csv('data/holdout_data.csv')\n",
    "X = df[features]\n",
    "for target in ['DiffMeanHourlyPercent', 'DiffMedianHourlyPercent']:\n",
    "    y = df[target].values\n",
    "    explain_model(target, X, y)\n",
    "\n"
   ],
   "metadata": {
    "collapsed": false,
    "pycharm": {
     "name": "#%%\n",
     "is_executing": true
    }
   }
  },
  {
   "cell_type": "code",
   "execution_count": null,
   "outputs": [],
   "source": [],
   "metadata": {
    "collapsed": false,
    "pycharm": {
     "name": "#%%\n",
     "is_executing": false
    }
   }
  },
  {
   "cell_type": "code",
   "execution_count": null,
   "outputs": [],
   "source": [
    "\n"
   ],
   "metadata": {
    "collapsed": false,
    "pycharm": {
     "name": "#%%\n"
    }
   }
  }
 ],
 "metadata": {
  "kernelspec": {
   "display_name": "Python 3",
   "language": "python",
   "name": "python3"
  },
  "language_info": {
   "codemirror_mode": {
    "name": "ipython",
    "version": 2
   },
   "file_extension": ".py",
   "mimetype": "text/x-python",
   "name": "python",
   "nbconvert_exporter": "python",
   "pygments_lexer": "ipython2",
   "version": "2.7.6"
  },
  "pycharm": {
   "stem_cell": {
    "cell_type": "raw",
    "source": [],
    "metadata": {
     "collapsed": false
    }
   }
  }
 },
 "nbformat": 4,
 "nbformat_minor": 0
}